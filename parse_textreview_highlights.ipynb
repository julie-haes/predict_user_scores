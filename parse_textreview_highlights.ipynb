{
 "cells": [
  {
   "cell_type": "code",
   "execution_count": 1,
   "metadata": {},
   "outputs": [
    {
     "data": {
      "text/html": [
       "<div>\n",
       "<style scoped>\n",
       "    .dataframe tbody tr th:only-of-type {\n",
       "        vertical-align: middle;\n",
       "    }\n",
       "\n",
       "    .dataframe tbody tr th {\n",
       "        vertical-align: top;\n",
       "    }\n",
       "\n",
       "    .dataframe thead th {\n",
       "        text-align: right;\n",
       "    }\n",
       "</style>\n",
       "<table border=\"1\" class=\"dataframe\">\n",
       "  <thead>\n",
       "    <tr style=\"text-align: right;\">\n",
       "      <th></th>\n",
       "      <th>review_text</th>\n",
       "      <th>score</th>\n",
       "      <th>customer_name</th>\n",
       "      <th>review_title</th>\n",
       "      <th>shap_json</th>\n",
       "    </tr>\n",
       "  </thead>\n",
       "  <tbody>\n",
       "    <tr>\n",
       "      <th>0</th>\n",
       "      <td>Kairos Blue Black. Very pleased so far with fi...</td>\n",
       "      <td>5</td>\n",
       "      <td>Dan</td>\n",
       "      <td>Very pleased so far with first Vincero</td>\n",
       "      <td>[{\"shap\":0.110236279,\"term\":\"marking\",\"occurre...</td>\n",
       "    </tr>\n",
       "    <tr>\n",
       "      <th>1</th>\n",
       "      <td>I bought this as a gift for my boyfriend and h...</td>\n",
       "      <td>3</td>\n",
       "      <td>Mattthew</td>\n",
       "      <td>Latch keeps coming loose</td>\n",
       "      <td>[{\"shap\": 0.0687311994, \"term\": \"gift\", \"occur...</td>\n",
       "    </tr>\n",
       "    <tr>\n",
       "      <th>2</th>\n",
       "      <td>I have recently purchased three Vincero watche...</td>\n",
       "      <td>5</td>\n",
       "      <td>KEN F.</td>\n",
       "      <td>Veritable magnificent craftsmanship.</td>\n",
       "      <td>[{\"shap\":-0.0682389144,\"term\":\"face\",\"occurren...</td>\n",
       "    </tr>\n",
       "    <tr>\n",
       "      <th>3</th>\n",
       "      <td>I love the fact that the watch was exactly wha...</td>\n",
       "      <td>5</td>\n",
       "      <td>Alexis Iturbe</td>\n",
       "      <td>The beauty of the watch</td>\n",
       "      <td>[{\"shap\":-0.0449718271,\"term\":\"instead\",\"occur...</td>\n",
       "    </tr>\n",
       "    <tr>\n",
       "      <th>4</th>\n",
       "      <td>The strap I received looked nothing like the p...</td>\n",
       "      <td>2</td>\n",
       "      <td>itamar barouch</td>\n",
       "      <td>Ugly strap</td>\n",
       "      <td>[{\"shap\":-0.0461804947,\"term\":\"strap\",\"occurre...</td>\n",
       "    </tr>\n",
       "  </tbody>\n",
       "</table>\n",
       "</div>"
      ],
      "text/plain": [
       "                                         review_text  score    customer_name  \\\n",
       "0  Kairos Blue Black. Very pleased so far with fi...      5              Dan   \n",
       "1  I bought this as a gift for my boyfriend and h...      3        Mattthew    \n",
       "2  I have recently purchased three Vincero watche...      5          KEN F.    \n",
       "3  I love the fact that the watch was exactly wha...      5   Alexis Iturbe    \n",
       "4  The strap I received looked nothing like the p...      2  itamar barouch    \n",
       "\n",
       "                             review_title  \\\n",
       "0  Very pleased so far with first Vincero   \n",
       "1               Latch keeps coming loose    \n",
       "2   Veritable magnificent craftsmanship.    \n",
       "3                The beauty of the watch    \n",
       "4                             Ugly strap    \n",
       "\n",
       "                                           shap_json  \n",
       "0  [{\"shap\":0.110236279,\"term\":\"marking\",\"occurre...  \n",
       "1  [{\"shap\": 0.0687311994, \"term\": \"gift\", \"occur...  \n",
       "2  [{\"shap\":-0.0682389144,\"term\":\"face\",\"occurren...  \n",
       "3  [{\"shap\":-0.0449718271,\"term\":\"instead\",\"occur...  \n",
       "4  [{\"shap\":-0.0461804947,\"term\":\"strap\",\"occurre...  "
      ]
     },
     "execution_count": 1,
     "metadata": {},
     "output_type": "execute_result"
    }
   ],
   "source": [
    "import pandas as pd\n",
    "\n",
    "review = pd.read_csv('section1.csv', sep=';', encoding = 'utf-8')\n",
    "review.head()"
   ]
  },
  {
   "cell_type": "code",
   "execution_count": 2,
   "metadata": {},
   "outputs": [],
   "source": [
    "def getRating(input):\n",
    "    if (input == 1):\n",
    "        return 'one'\n",
    "    elif (input == 2):\n",
    "        return 'two'\n",
    "    elif (input == 3):\n",
    "        return 'three'\n",
    "    elif (input == 4):\n",
    "        return 'four'\n",
    "    elif (input == 5):\n",
    "        return 'five'\n",
    "    \n",
    "    return 'zero'"
   ]
  },
  {
   "cell_type": "code",
   "execution_count": 3,
   "metadata": {},
   "outputs": [],
   "source": [
    "def getHeader(name, rating, title):\n",
    "    header = '<div class=\"single\"><p><img src=\"avatar.jpg\"> <span class=\"reviewer_name\">' + name + '</span></p><p><img src=\"trans.png\" '\n",
    "    next_line = 'class=\"star_rating ' + rating + '\"><span class=\"review_title\">' + title + '</span></p><p class=\"review_result\">'\n",
    "    \n",
    "    return header + next_line"
   ]
  },
  {
   "cell_type": "code",
   "execution_count": 4,
   "metadata": {},
   "outputs": [],
   "source": [
    "def getEndLine():\n",
    "    return '</p></div>'"
   ]
  },
  {
   "cell_type": "code",
   "execution_count": 5,
   "metadata": {},
   "outputs": [],
   "source": [
    "def getMiddle(text_review, shap_string):\n",
    "    result = evaluate(text_review, shap_string)\n",
    "    return result"
   ]
  },
  {
   "cell_type": "code",
   "execution_count": 6,
   "metadata": {},
   "outputs": [],
   "source": [
    "import json\n",
    "\n",
    "def parseShap(shap_string):\n",
    "    return json.loads(shap_string)"
   ]
  },
  {
   "cell_type": "code",
   "execution_count": 7,
   "metadata": {},
   "outputs": [],
   "source": [
    "def find_dictionary(list, term):    \n",
    "    for x in range(0, len(list)):\n",
    "        if (list[x]['term'] == term.lower()) or (term[0:-1].lower() == list[x]['term'] and term[-1] == 's'):\n",
    "            return list[x]\n",
    "        elif (term.lower() == \"watches\") and (list[x]['term'] == 'watch'):\n",
    "            return list[x]\n",
    "    \n",
    "    return None"
   ]
  },
  {
   "cell_type": "code",
   "execution_count": 8,
   "metadata": {},
   "outputs": [],
   "source": [
    "def evaluate(input, shap):\n",
    "    parts = custom_split(input)\n",
    "    output = \"\"\n",
    "    for part in parts:\n",
    "        parse = parseShap(shap)\n",
    "        s = find_dictionary(parse, part)\n",
    "        if s is not None:\n",
    "            element = invoke_paragraph(s, part)\n",
    "            output = output + element\n",
    "        else: output = output + part\n",
    "    return output"
   ]
  },
  {
   "cell_type": "code",
   "execution_count": 9,
   "metadata": {},
   "outputs": [],
   "source": [
    "def custom_split(input):\n",
    "    array = ['.', '?', '!', ',', ' ', '-', '\"']\n",
    "    result = []\n",
    "    length = len(input)\n",
    "\n",
    "    word = ''\n",
    "\n",
    "    for i in range(len(input)):\n",
    "        char = input[i]\n",
    "        if char in array:\n",
    "            if word != '' :\n",
    "                result.append(word)\n",
    "                word = \"\"\n",
    "            result.append(char)\n",
    "        else:\n",
    "            word += char\n",
    "            \n",
    "    if word != ' ' : \n",
    "        result.append(word)\n",
    "\n",
    "    return result"
   ]
  },
  {
   "cell_type": "code",
   "execution_count": 10,
   "metadata": {},
   "outputs": [],
   "source": [
    "def invoke_paragraph(dictionary, part):\n",
    "    orientation = dictionary['orientation']\n",
    "    occurrence = dictionary['occurrence']\n",
    "    term = dictionary['term']\n",
    "    factor = dictionary['factor']\n",
    "    \n",
    "    if (occurrence > 1):\n",
    "        factor = factor / occurrence\n",
    "        \n",
    "    return highlight_part(factor, orientation, part)"
   ]
  },
  {
   "cell_type": "code",
   "execution_count": 11,
   "metadata": {},
   "outputs": [],
   "source": [
    "def highlight_part(shapvalue, orientation, term) :\n",
    "    return \"<span class=\\\"highlighter \" + orientation + \"\\\" data-shap=\\\"\" + str(shapvalue) + \"\\\">\" + term + \"</span>\";"
   ]
  },
  {
   "cell_type": "code",
   "execution_count": 12,
   "metadata": {},
   "outputs": [
    {
     "name": "stdout",
     "output_type": "stream",
     "text": [
      "<div class=\"single\"><p><img src=\"avatar.jpg\"> <span class=\"reviewer_name\">Dan</span></p><p><img src=\"trans.png\" class=\"star_rating five\"><span class=\"review_title\">Very pleased so far with first Vincero</span></p><p class=\"review_result\">Kairos Blue Black. Very <span class=\"highlighter positive\" data-shap=\"0.35\">pleased</span> so <span class=\"highlighter positive\" data-shap=\"0.08\">far</span> with first Vincero. <span class=\"highlighter negative\" data-shap=\"0.22\">Received</span> in <span class=\"highlighter positive\" data-shap=\"0.37\">flawless</span> <span class=\"highlighter negative\" data-shap=\"0.06\">condition</span>. Product looks and feels well made. Citizen <span class=\"highlighter negative\" data-shap=\"0.15\">Miyota</span> Quartz movement is <span class=\"highlighter negative\" data-shap=\"0.18\">crisp</span> and aligns with dial <span class=\"highlighter positive\" data-shap=\"0.11\">markings</span>, <span class=\"highlighter positive\" data-shap=\"0.2\">easy</span> to read. Obviously, no chrono <span class=\"highlighter negative\" data-shap=\"0.19\">reset</span> alignment issues with Kairos. I’ve only had mine for a couple of <span class=\"highlighter negative\" data-shap=\"0.21\">weeks</span> now and so <span class=\"highlighter positive\" data-shap=\"0.08\">far</span> all is well. Can’t <span class=\"highlighter positive\" data-shap=\"0.11\">comment</span> on longevity yet. Found the style name “Kairos” interesting so I <span class=\"highlighter negative\" data-shap=\"0.27\">looked</span> it up - a time when <span class=\"highlighter negative\" data-shap=\"0.06\">conditions</span> are right for the <span class=\"highlighter positive\" data-shap=\"0.37\">accomplishment</span> of a <span class=\"highlighter positive\" data-shap=\"0.41\">crucial</span> action : the <span class=\"highlighter negative\" data-shap=\"0.21\">opportune</span> and decisive moment. Well done, Vincero. For the price, I will have two before too long. Feel <span class=\"highlighter positive\" data-shap=\"0.15\">free</span> to <span class=\"highlighter positive\" data-shap=\"0.21\">ask</span> me questions if you are considering. </p></div>\n",
      "<div class=\"single\"><p><img src=\"avatar.jpg\"> <span class=\"reviewer_name\">Mattthew </span></p><p><img src=\"trans.png\" class=\"star_rating three\"><span class=\"review_title\">Latch keeps coming loose </span></p><p class=\"review_result\">I bought this as a <span class=\"highlighter positive\" data-shap=\"0.07\">gift</span> for my boyfriend and he <span class=\"highlighter positive\" data-shap=\"0.37\">loves</span> it. Very <span class=\"highlighter positive\" data-shap=\"0.24\">nice</span> to look at and <span class=\"highlighter positive\" data-shap=\"0.27\">compliments</span> all outfits <span class=\"highlighter positive\" data-shap=\"0.16\">nicely</span>. However. After wearing it every <span class=\"highlighter negative\" data-shap=\"0.085\">day</span> for about 5 <span class=\"highlighter negative\" data-shap=\"0.085\">days</span> the latch <span class=\"highlighter negative\" data-shap=\"0.2\">started</span> <span class=\"highlighter negative\" data-shap=\"0.24\">randomly</span> <span class=\"highlighter negative\" data-shap=\"0.2\">coming</span> <span class=\"highlighter negative\" data-shap=\"0.19\">loose</span> and would <span class=\"highlighter positive\" data-shap=\"0.065\">just</span> <span class=\"highlighter negative\" data-shap=\"0.23\">fall</span> off his wrist. He <span class=\"highlighter positive\" data-shap=\"0.04\">has</span> always taken <span class=\"highlighter positive\" data-shap=\"0.31\">great</span> <span class=\"highlighter positive\" data-shap=\"0.18\">care</span> of it and <span class=\"highlighter negative\" data-shap=\"0.34\">doesn't</span> get it <span class=\"highlighter negative\" data-shap=\"0.12\">wet</span> or <span class=\"highlighter negative\" data-shap=\"0.34\">dirty</span> or anything <span class=\"highlighter positive\" data-shap=\"0.1\">like</span> that. <span class=\"highlighter positive\" data-shap=\"0.065\">Just</span> seems as though it <span class=\"highlighter positive\" data-shap=\"0.04\">has</span> a <span class=\"highlighter negative\" data-shap=\"0.46\">faulty</span> latch. Helpful</p></div>\n",
      "<div class=\"single\"><p><img src=\"avatar.jpg\"> <span class=\"reviewer_name\">KEN F. </span></p><p><img src=\"trans.png\" class=\"star_rating five\"><span class=\"review_title\">Veritable magnificent craftsmanship. </span></p><p class=\"review_result\">I have <span class=\"highlighter positive\" data-shap=\"0.12\">recently</span> purchased three Vincero watches for my <span class=\"highlighter positive\" data-shap=\"0.045\">family</span> - everyone was extremely <span class=\"highlighter positive\" data-shap=\"0.13\">impressed</span> and <span class=\"highlighter positive\" data-shap=\"0.16\">amazed</span> that these <span class=\"highlighter positive\" data-shap=\"0.2\">high</span>-<span class=\"highlighter negative\" data-shap=\"0.09\">quality</span> watches were so very <span class=\"highlighter positive\" data-shap=\"0.19\">reasonably</span> priced. The <span class=\"highlighter negative\" data-shap=\"0.38\">plating</span> and <span class=\"highlighter positive\" data-shap=\"0.16\">distinctive</span> <span class=\"highlighter negative\" data-shap=\"0.07\">faces</span> are <span class=\"highlighter positive\" data-shap=\"0.29\">superb</span>. I <span class=\"highlighter negative\" data-shap=\"0.22\">intend</span> to purchase more <span class=\"highlighter negative\" data-shap=\"0.09\">items</span> for <span class=\"highlighter positive\" data-shap=\"0.09\">friends</span> and <span class=\"highlighter positive\" data-shap=\"0.045\">family</span> in the near future. Compared to companies such as Citizen and Seiko, these time pieces are without <span class=\"highlighter negative\" data-shap=\"0.08\">equal</span>. An extremely <span class=\"highlighter positive\" data-shap=\"0.44\">delighted</span> <span class=\"highlighter negative\" data-shap=\"0.21\">consumer</span>. <span class=\"highlighter negative\" data-shap=\"0.12\">Ken</span> F </p></div>\n",
      "<div class=\"single\"><p><img src=\"avatar.jpg\"> <span class=\"reviewer_name\">Alexis Iturbe </span></p><p><img src=\"trans.png\" class=\"star_rating five\"><span class=\"review_title\">The beauty of the watch </span></p><p class=\"review_result\">I <span class=\"highlighter positive\" data-shap=\"0.41\">love</span> the fact that the <span class=\"highlighter positive\" data-shap=\"0.01\">watch</span> was <span class=\"highlighter positive\" data-shap=\"0.34\">exactly</span> what I <span class=\"highlighter negative\" data-shap=\"0.04\">read</span> on the <span class=\"highlighter negative\" data-shap=\"0.25\">description</span>. I also <span class=\"highlighter positive\" data-shap=\"0.41\">love</span> the <span class=\"highlighter negative\" data-shap=\"0.29\">marble</span> on the back of the <span class=\"highlighter positive\" data-shap=\"0.01\">watch</span>. One <span class=\"highlighter positive\" data-shap=\"0.07\">thing</span> that this <span class=\"highlighter positive\" data-shap=\"0.01\">watch</span> is <span class=\"highlighter positive\" data-shap=\"0.33\">best</span> at is the fact that you can <span class=\"highlighter negative\" data-shap=\"0.045\">change</span> the <span class=\"highlighter negative\" data-shap=\"0.05\">straps</span> of it to either leather, or metal to <span class=\"highlighter positive\" data-shap=\"0.065\">just</span> <span class=\"highlighter negative\" data-shap=\"0.045\">change</span> up your <span class=\"highlighter positive\" data-shap=\"0.1\">like</span> in <span class=\"highlighter negative\" data-shap=\"0.22\">taste</span> of different combinations. The price for this <span class=\"highlighter positive\" data-shap=\"0.01\">watch</span> and any <span class=\"highlighter positive\" data-shap=\"0.01\">watch</span> that Vincero sell you is <span class=\"highlighter positive\" data-shap=\"0.065\">just</span> <span class=\"highlighter positive\" data-shap=\"0.06\">right</span> and it will be worth your money <span class=\"highlighter negative\" data-shap=\"0.04\">instead</span> of buying other <span class=\"highlighter positive\" data-shap=\"0.01\">watches</span> for a <span class=\"highlighter positive\" data-shap=\"0.12\">greater</span> <span class=\"highlighter positive\" data-shap=\"0.14\">expense</span>. </p></div>\n",
      "<div class=\"single\"><p><img src=\"avatar.jpg\"> <span class=\"reviewer_name\">itamar barouch </span></p><p><img src=\"trans.png\" class=\"star_rating two\"><span class=\"review_title\">Ugly strap </span></p><p class=\"review_result\">The <span class=\"highlighter negative\" data-shap=\"0.05\">strap</span> I <span class=\"highlighter negative\" data-shap=\"0.22\">received</span> <span class=\"highlighter negative\" data-shap=\"0.27\">looked</span> nothing <span class=\"highlighter positive\" data-shap=\"0.1\">like</span> the <span class=\"highlighter negative\" data-shap=\"0.18\">picture</span>, very <span class=\"highlighter negative\" data-shap=\"0.71\">disappointing</span></p></div>\n",
      "<div class=\"single\"><p><img src=\"avatar.jpg\"> <span class=\"reviewer_name\">Adam Jones </span></p><p><img src=\"trans.png\" class=\"star_rating five\"><span class=\"review_title\">Great looking watch for a really cheap price </span></p><p class=\"review_result\"><span class=\"highlighter positive\" data-shap=\"0.085\">Definitely</span> a <span class=\"highlighter positive\" data-shap=\"0.23\">good</span> watch for the <span class=\"highlighter negative\" data-shap=\"0.03\">extremely</span> <span class=\"highlighter negative\" data-shap=\"0.53\">cheap</span> price of $140. Bought it to tide me over until I <span class=\"highlighter negative\" data-shap=\"0.03\">feel</span> <span class=\"highlighter positive\" data-shap=\"0.1\">like</span> buying a real <span class=\"highlighter positive\" data-shap=\"0.15\">expensive</span> watch from the jewelry <span class=\"highlighter positive\" data-shap=\"0.06\">store</span> in <span class=\"highlighter positive\" data-shap=\"0.18\">town</span> and I'm <span class=\"highlighter positive\" data-shap=\"0.085\">definitely</span> <span class=\"highlighter positive\" data-shap=\"0.23\">happy</span> with it. <span class=\"highlighter negative\" data-shap=\"0.08\">Looks</span> as <span class=\"highlighter positive\" data-shap=\"0.08\">advertised</span> and the <span class=\"highlighter positive\" data-shap=\"0.24\">Italian</span> leather is <span class=\"highlighter negative\" data-shap=\"0.03\">extremely</span> <span class=\"highlighter positive\" data-shap=\"0.16\">comfortable</span>. </p></div>\n",
      "<div class=\"single\"><p><img src=\"avatar.jpg\"> <span class=\"reviewer_name\">Courtney Cochran </span></p><p><img src=\"trans.png\" class=\"star_rating five\"><span class=\"review_title\">Quality and Care </span></p><p class=\"review_result\">I <span class=\"highlighter negative\" data-shap=\"0.04\">ordered</span> this watch for my <span class=\"highlighter positive\" data-shap=\"0.08\">husband</span> last <span class=\"highlighter negative\" data-shap=\"0.21\">week</span> and have to <span class=\"highlighter positive\" data-shap=\"0.04\">say</span> that we are <span class=\"highlighter negative\" data-shap=\"0.03\">extremely</span> <span class=\"highlighter positive\" data-shap=\"0.13\">impressed</span>. Not only is the <span class=\"highlighter negative\" data-shap=\"0.09\">quality</span> of this watch <span class=\"highlighter positive\" data-shap=\"0.4\">amazing</span>, <span class=\"highlighter positive\" data-shap=\"0.11\">especially</span> for the <span class=\"highlighter positive\" data-shap=\"0.07\">affordable</span> price, but the <span class=\"highlighter positive\" data-shap=\"0.08\">customer</span> service displayed by this company is top <span class=\"highlighter positive\" data-shap=\"0.14\">notch</span>. I would absolutely recommend them to a <span class=\"highlighter positive\" data-shap=\"0.09\">friend</span> and will be purchasing from them in the <span class=\"highlighter positive\" data-shap=\"0.08\">future</span>! </p></div>\n",
      "<div class=\"single\"><p><img src=\"avatar.jpg\"> <span class=\"reviewer_name\">Randy24 </span></p><p><img src=\"trans.png\" class=\"star_rating four\"><span class=\"review_title\">Beautiful watch, date-setting instructions---not so much </span></p><p class=\"review_result\">This is a <span class=\"highlighter positive\" data-shap=\"0.35\">beautiful</span> watch! Large face (40mm), dark blue background with gold <span class=\"highlighter negative\" data-shap=\"0.11\">hands</span>, <span class=\"highlighter positive\" data-shap=\"0.15\">simple</span> day of <span class=\"highlighter negative\" data-shap=\"0.21\">month</span> <span class=\"highlighter positive\" data-shap=\"0.03666666666666667\">date</span> window, <span class=\"highlighter positive\" data-shap=\"0.16\">comfortable</span> leather band. I <span class=\"highlighter positive\" data-shap=\"0.19\">deducted</span> one star because the <span class=\"highlighter negative\" data-shap=\"0.21\">instructions</span> on setting the <span class=\"highlighter positive\" data-shap=\"0.03666666666666667\">date</span> were totally <span class=\"highlighter negative\" data-shap=\"0.17\">wrong</span>. I searched online to find how to <span class=\"highlighter negative\" data-shap=\"0.09\">set</span> the <span class=\"highlighter positive\" data-shap=\"0.03666666666666667\">date</span> with no <span class=\"highlighter negative\" data-shap=\"0.12\">luck</span> but <span class=\"highlighter positive\" data-shap=\"0.25\">finally</span> <span class=\"highlighter positive\" data-shap=\"0.08\">figured</span> it out myself by <span class=\"highlighter positive\" data-shap=\"0.39\">fiddling</span> with the crown settings. <span class=\"highlighter negative\" data-shap=\"0.42\">Frustrating</span>! Someone should have <span class=\"highlighter positive\" data-shap=\"0.11\">caught</span> that in the <span class=\"highlighter negative\" data-shap=\"0.09\">quality</span> control <span class=\"highlighter negative\" data-shap=\"0.21\">dept</span>.</p></div>\n",
      "<div class=\"single\"><p><img src=\"avatar.jpg\"> <span class=\"reviewer_name\">Robert Rochon </span></p><p><img src=\"trans.png\" class=\"star_rating five\"><span class=\"review_title\">Superb watch at a great value! </span></p><p class=\"review_result\"><span class=\"highlighter positive\" data-shap=\"0.29\">Superb</span> <span class=\"highlighter positive\" data-shap=\"0.01\">watch</span> at a <span class=\"highlighter positive\" data-shap=\"0.31\">great</span> <span class=\"highlighter negative\" data-shap=\"0.02\">value</span>! I'm very <span class=\"highlighter positive\" data-shap=\"0.35\">pleased</span> with the <span class=\"highlighter positive\" data-shap=\"0.01\">watch</span>, the <span class=\"highlighter negative\" data-shap=\"0.08\">look</span>, and the <span class=\"highlighter negative\" data-shap=\"0.03\">feel</span>. I'm in the process of <span class=\"highlighter negative\" data-shap=\"0.32\">updating</span> my <span class=\"highlighter positive\" data-shap=\"0.03\">wardrobe</span> and buying this <span class=\"highlighter positive\" data-shap=\"0.01\">watch</span> is one of my first <span class=\"highlighter negative\" data-shap=\"0.04\">steps</span> in <span class=\"highlighter positive\" data-shap=\"0.09\">doing</span> so, and I have no <span class=\"highlighter positive\" data-shap=\"0.04\">regrets</span>. I will recommend Vincero <span class=\"highlighter positive\" data-shap=\"0.01\">watches</span> to my <span class=\"highlighter positive\" data-shap=\"0.09\">friends</span>. </p></div>\n"
     ]
    }
   ],
   "source": [
    "name = \"\"\n",
    "rating = \"\"\n",
    "title = \"\"\n",
    "for i in review.index:\n",
    "    row = review.loc[i]\n",
    "    \n",
    "    shap = row.shap_json\n",
    "    name = row.customer_name\n",
    "    rating = getRating(row.score)\n",
    "    title = row.review_title\n",
    "    review_text = row.review_text\n",
    "    \n",
    "    h = getHeader(name, rating, title)\n",
    "    middle = getMiddle(review_text, shap)\n",
    "    e = getEndLine()\n",
    "    print(h + middle + e)\n",
    "    \n",
    "    shap = \"\"\n",
    "    name = \"\"\n",
    "    rating = \"\"\n",
    "    title = \"\"\n",
    "    review_text = \"\""
   ]
  }
 ],
 "metadata": {
  "kernelspec": {
   "display_name": "Python 3",
   "language": "python",
   "name": "python3"
  },
  "language_info": {
   "codemirror_mode": {
    "name": "ipython",
    "version": 3
   },
   "file_extension": ".py",
   "mimetype": "text/x-python",
   "name": "python",
   "nbconvert_exporter": "python",
   "pygments_lexer": "ipython3",
   "version": "3.7.7"
  }
 },
 "nbformat": 4,
 "nbformat_minor": 4
}
