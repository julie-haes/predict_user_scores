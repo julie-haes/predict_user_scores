{
 "cells": [
  {
   "cell_type": "code",
   "execution_count": 1,
   "metadata": {},
   "outputs": [
    {
     "data": {
      "text/html": [
       "<div>\n",
       "<style scoped>\n",
       "    .dataframe tbody tr th:only-of-type {\n",
       "        vertical-align: middle;\n",
       "    }\n",
       "\n",
       "    .dataframe tbody tr th {\n",
       "        vertical-align: top;\n",
       "    }\n",
       "\n",
       "    .dataframe thead th {\n",
       "        text-align: right;\n",
       "    }\n",
       "</style>\n",
       "<table border=\"1\" class=\"dataframe\">\n",
       "  <thead>\n",
       "    <tr style=\"text-align: right;\">\n",
       "      <th></th>\n",
       "      <th>review_text</th>\n",
       "      <th>score</th>\n",
       "      <th>customer_name</th>\n",
       "      <th>review_title</th>\n",
       "      <th>shap_json</th>\n",
       "    </tr>\n",
       "  </thead>\n",
       "  <tbody>\n",
       "    <tr>\n",
       "      <th>0</th>\n",
       "      <td>Kairos Blue Black. Very pleased so far with fi...</td>\n",
       "      <td>5</td>\n",
       "      <td>Dan</td>\n",
       "      <td>Very pleased so far with first Vincero</td>\n",
       "      <td>[{\"shap\":0.110236279,\"term\":\"marking\",\"occurre...</td>\n",
       "    </tr>\n",
       "    <tr>\n",
       "      <th>1</th>\n",
       "      <td>I bought this as a gift for my boyfriend and h...</td>\n",
       "      <td>3</td>\n",
       "      <td>Mattthew</td>\n",
       "      <td>Latch keeps coming loose</td>\n",
       "      <td>[{\"shap\": 0.0687311994, \"term\": \"gift\", \"occur...</td>\n",
       "    </tr>\n",
       "    <tr>\n",
       "      <th>2</th>\n",
       "      <td>I have recently purchased three Vincero watche...</td>\n",
       "      <td>5</td>\n",
       "      <td>KEN F.</td>\n",
       "      <td>Veritable magnificent craftsmanship.</td>\n",
       "      <td>[{\"shap\":-0.0682389144,\"term\":\"face\",\"occurren...</td>\n",
       "    </tr>\n",
       "    <tr>\n",
       "      <th>3</th>\n",
       "      <td>I love the fact that the watch was exactly wha...</td>\n",
       "      <td>5</td>\n",
       "      <td>Alexis Iturbe</td>\n",
       "      <td>The beauty of the watch</td>\n",
       "      <td>[{\"shap\":-0.0449718271,\"term\":\"instead\",\"occur...</td>\n",
       "    </tr>\n",
       "    <tr>\n",
       "      <th>4</th>\n",
       "      <td>The strap I received looked nothing like the p...</td>\n",
       "      <td>2</td>\n",
       "      <td>itamar barouch</td>\n",
       "      <td>Ugly strap</td>\n",
       "      <td>[{\"shap\":-0.0461804947,\"term\":\"strap\",\"occurre...</td>\n",
       "    </tr>\n",
       "  </tbody>\n",
       "</table>\n",
       "</div>"
      ],
      "text/plain": [
       "                                         review_text  score    customer_name  \\\n",
       "0  Kairos Blue Black. Very pleased so far with fi...      5              Dan   \n",
       "1  I bought this as a gift for my boyfriend and h...      3        Mattthew    \n",
       "2  I have recently purchased three Vincero watche...      5          KEN F.    \n",
       "3  I love the fact that the watch was exactly wha...      5   Alexis Iturbe    \n",
       "4  The strap I received looked nothing like the p...      2  itamar barouch    \n",
       "\n",
       "                             review_title  \\\n",
       "0  Very pleased so far with first Vincero   \n",
       "1               Latch keeps coming loose    \n",
       "2   Veritable magnificent craftsmanship.    \n",
       "3                The beauty of the watch    \n",
       "4                             Ugly strap    \n",
       "\n",
       "                                           shap_json  \n",
       "0  [{\"shap\":0.110236279,\"term\":\"marking\",\"occurre...  \n",
       "1  [{\"shap\": 0.0687311994, \"term\": \"gift\", \"occur...  \n",
       "2  [{\"shap\":-0.0682389144,\"term\":\"face\",\"occurren...  \n",
       "3  [{\"shap\":-0.0449718271,\"term\":\"instead\",\"occur...  \n",
       "4  [{\"shap\":-0.0461804947,\"term\":\"strap\",\"occurre...  "
      ]
     },
     "execution_count": 1,
     "metadata": {},
     "output_type": "execute_result"
    }
   ],
   "source": [
    "import pandas as pd\n",
    "\n",
    "review = pd.read_csv('section1.csv', sep=';', encoding = 'utf-8')\n",
    "review.head()"
   ]
  },
  {
   "cell_type": "code",
   "execution_count": 2,
   "metadata": {},
   "outputs": [],
   "source": [
    "def getRating(input):\n",
    "    if (input == 1):\n",
    "        return 'one'\n",
    "    elif (input == 2):\n",
    "        return 'two'\n",
    "    elif (input == 3):\n",
    "        return 'three'\n",
    "    elif (input == 4):\n",
    "        return 'four'\n",
    "    elif (input == 5):\n",
    "        return 'five'\n",
    "    \n",
    "    return 'zero'"
   ]
  },
  {
   "cell_type": "code",
   "execution_count": 3,
   "metadata": {},
   "outputs": [],
   "source": [
    "def getHeader(name, rating, title):\n",
    "    header = '<div class=\"single\"><p><img src=\"avatar.jpg\"> <span class=\"reviewer_name\">' + name + '</span></p><p><img src=\"trans.png\" '\n",
    "    next_line = 'class=\"star_rating ' + rating + '\"><span class=\"review_title\">' + title + '</span></p><p class=\"review_result\">'\n",
    "    \n",
    "    return header + next_line"
   ]
  },
  {
   "cell_type": "code",
   "execution_count": 4,
   "metadata": {},
   "outputs": [],
   "source": [
    "def getEndLine():\n",
    "    return '</p></div>'"
   ]
  },
  {
   "cell_type": "code",
   "execution_count": 5,
   "metadata": {},
   "outputs": [],
   "source": [
    "def getMiddle(text_review, shap_string):\n",
    "    result = evaluate(text_review, shap_string)\n",
    "    return result"
   ]
  },
  {
   "cell_type": "code",
   "execution_count": 6,
   "metadata": {},
   "outputs": [],
   "source": [
    "import json\n",
    "\n",
    "def parseShap(shap_string):\n",
    "    return json.loads(shap_string)"
   ]
  },
  {
   "cell_type": "code",
   "execution_count": 7,
   "metadata": {},
   "outputs": [],
   "source": [
    "def find_dictionary(list, term):    \n",
    "    for x in range(0, len(list)):\n",
    "        if (list[x]['term'] == term.lower()) or (term[0:-1].lower() == list[x]['term'] and term[-1] == 's'):\n",
    "            return list[x]\n",
    "        elif (term.lower() == \"watches\") and (list[x]['term'] == 'watch'):\n",
    "            return list[x]\n",
    "    \n",
    "    return None"
   ]
  },
  {
   "cell_type": "code",
   "execution_count": 8,
   "metadata": {},
   "outputs": [],
   "source": [
    "def evaluate(input, shap):\n",
    "    parts = custom_split(input)\n",
    "    output = \"\"\n",
    "    for part in parts:\n",
    "        parse = parseShap(shap)\n",
    "        s = find_dictionary(parse, part)\n",
    "        if s is not None:\n",
    "            element = invoke_paragraph(s, part)\n",
    "            output = output + element\n",
    "        else: output = output + part\n",
    "    return output"
   ]
  },
  {
   "cell_type": "code",
   "execution_count": 9,
   "metadata": {},
   "outputs": [],
   "source": [
    "def custom_split(input):\n",
    "    array = ['.', '?', '!', ',', ' ', '-', '\"']\n",
    "    result = []\n",
    "    length = len(input)\n",
    "\n",
    "    word = ''\n",
    "\n",
    "    for i in range(len(input)):\n",
    "        char = input[i]\n",
    "        if char in array:\n",
    "            if word != '' :\n",
    "                result.append(word)\n",
    "                word = \"\"\n",
    "            result.append(char)\n",
    "        else:\n",
    "            word += char\n",
    "            \n",
    "    if word != ' ' : \n",
    "        result.append(word)\n",
    "\n",
    "    return result"
   ]
  },
  {
   "cell_type": "code",
   "execution_count": 10,
   "metadata": {},
   "outputs": [],
   "source": [
    "def invoke_paragraph(dictionary, part):\n",
    "    orientation = dictionary['orientation']\n",
    "    occurrence = dictionary['occurrence']\n",
    "    term = dictionary['term']\n",
    "    factor = dictionary['factor']\n",
    "    \n",
    "    if (occurrence > 1):\n",
    "        factor = factor / occurrence\n",
    "        \n",
    "    return circle_part(factor, orientation, part)"
   ]
  },
  {
   "cell_type": "code",
   "execution_count": 11,
   "metadata": {},
   "outputs": [],
   "source": [
    "def circle_part(shapvalue, orientation, term):\n",
    "    return \"<span class=\\\"circles \" + orientation + \"\\\"  data-shap=\\\"\" + str(shapvalue) + \"\\\"></span><span class=\\\"circle_terms \" + orientation + \"\\\">\" + term + \"</span>\""
   ]
  },
  {
   "cell_type": "code",
   "execution_count": 12,
   "metadata": {},
   "outputs": [
    {
     "name": "stdout",
     "output_type": "stream",
     "text": [
      "<div class=\"single\"><p><img src=\"avatar.jpg\"> <span class=\"reviewer_name\">Dan</span></p><p><img src=\"trans.png\" class=\"star_rating five\"><span class=\"review_title\">Very pleased so far with first Vincero</span></p><p class=\"review_result\">Kairos Blue Black. Very <span class=\"circles positive\"  data-shap=\"0.35\"></span><span class=\"circle_terms positive\">pleased</span> so <span class=\"circles positive\"  data-shap=\"0.08\"></span><span class=\"circle_terms positive\">far</span> with first Vincero. <span class=\"circles negative\"  data-shap=\"0.22\"></span><span class=\"circle_terms negative\">Received</span> in <span class=\"circles positive\"  data-shap=\"0.37\"></span><span class=\"circle_terms positive\">flawless</span> <span class=\"circles negative\"  data-shap=\"0.06\"></span><span class=\"circle_terms negative\">condition</span>. Product looks and feels well made. Citizen <span class=\"circles negative\"  data-shap=\"0.15\"></span><span class=\"circle_terms negative\">Miyota</span> Quartz movement is <span class=\"circles negative\"  data-shap=\"0.18\"></span><span class=\"circle_terms negative\">crisp</span> and aligns with dial <span class=\"circles positive\"  data-shap=\"0.11\"></span><span class=\"circle_terms positive\">markings</span>, <span class=\"circles positive\"  data-shap=\"0.2\"></span><span class=\"circle_terms positive\">easy</span> to read. Obviously, no chrono <span class=\"circles negative\"  data-shap=\"0.19\"></span><span class=\"circle_terms negative\">reset</span> alignment issues with Kairos. I’ve only had mine for a couple of <span class=\"circles negative\"  data-shap=\"0.21\"></span><span class=\"circle_terms negative\">weeks</span> now and so <span class=\"circles positive\"  data-shap=\"0.08\"></span><span class=\"circle_terms positive\">far</span> all is well. Can’t <span class=\"circles positive\"  data-shap=\"0.11\"></span><span class=\"circle_terms positive\">comment</span> on longevity yet. Found the style name “Kairos” interesting so I <span class=\"circles negative\"  data-shap=\"0.27\"></span><span class=\"circle_terms negative\">looked</span> it up - a time when <span class=\"circles negative\"  data-shap=\"0.06\"></span><span class=\"circle_terms negative\">conditions</span> are right for the <span class=\"circles positive\"  data-shap=\"0.37\"></span><span class=\"circle_terms positive\">accomplishment</span> of a <span class=\"circles positive\"  data-shap=\"0.41\"></span><span class=\"circle_terms positive\">crucial</span> action : the <span class=\"circles negative\"  data-shap=\"0.21\"></span><span class=\"circle_terms negative\">opportune</span> and decisive moment. Well done, Vincero. For the price, I will have two before too long. Feel <span class=\"circles positive\"  data-shap=\"0.15\"></span><span class=\"circle_terms positive\">free</span> to <span class=\"circles positive\"  data-shap=\"0.21\"></span><span class=\"circle_terms positive\">ask</span> me questions if you are considering. </p></div>\n",
      "<div class=\"single\"><p><img src=\"avatar.jpg\"> <span class=\"reviewer_name\">Mattthew </span></p><p><img src=\"trans.png\" class=\"star_rating three\"><span class=\"review_title\">Latch keeps coming loose </span></p><p class=\"review_result\">I bought this as a <span class=\"circles positive\"  data-shap=\"0.07\"></span><span class=\"circle_terms positive\">gift</span> for my boyfriend and he <span class=\"circles positive\"  data-shap=\"0.37\"></span><span class=\"circle_terms positive\">loves</span> it. Very <span class=\"circles positive\"  data-shap=\"0.24\"></span><span class=\"circle_terms positive\">nice</span> to look at and <span class=\"circles positive\"  data-shap=\"0.27\"></span><span class=\"circle_terms positive\">compliments</span> all outfits <span class=\"circles positive\"  data-shap=\"0.16\"></span><span class=\"circle_terms positive\">nicely</span>. However. After wearing it every <span class=\"circles negative\"  data-shap=\"0.085\"></span><span class=\"circle_terms negative\">day</span> for about 5 <span class=\"circles negative\"  data-shap=\"0.085\"></span><span class=\"circle_terms negative\">days</span> the latch <span class=\"circles negative\"  data-shap=\"0.2\"></span><span class=\"circle_terms negative\">started</span> <span class=\"circles negative\"  data-shap=\"0.24\"></span><span class=\"circle_terms negative\">randomly</span> <span class=\"circles negative\"  data-shap=\"0.2\"></span><span class=\"circle_terms negative\">coming</span> <span class=\"circles negative\"  data-shap=\"0.19\"></span><span class=\"circle_terms negative\">loose</span> and would <span class=\"circles positive\"  data-shap=\"0.065\"></span><span class=\"circle_terms positive\">just</span> <span class=\"circles negative\"  data-shap=\"0.23\"></span><span class=\"circle_terms negative\">fall</span> off his wrist. He <span class=\"circles positive\"  data-shap=\"0.04\"></span><span class=\"circle_terms positive\">has</span> always taken <span class=\"circles positive\"  data-shap=\"0.31\"></span><span class=\"circle_terms positive\">great</span> <span class=\"circles positive\"  data-shap=\"0.18\"></span><span class=\"circle_terms positive\">care</span> of it and <span class=\"circles negative\"  data-shap=\"0.34\"></span><span class=\"circle_terms negative\">doesn't</span> get it <span class=\"circles negative\"  data-shap=\"0.12\"></span><span class=\"circle_terms negative\">wet</span> or <span class=\"circles negative\"  data-shap=\"0.34\"></span><span class=\"circle_terms negative\">dirty</span> or anything <span class=\"circles positive\"  data-shap=\"0.1\"></span><span class=\"circle_terms positive\">like</span> that. <span class=\"circles positive\"  data-shap=\"0.065\"></span><span class=\"circle_terms positive\">Just</span> seems as though it <span class=\"circles positive\"  data-shap=\"0.04\"></span><span class=\"circle_terms positive\">has</span> a <span class=\"circles negative\"  data-shap=\"0.46\"></span><span class=\"circle_terms negative\">faulty</span> latch. Helpful</p></div>\n",
      "<div class=\"single\"><p><img src=\"avatar.jpg\"> <span class=\"reviewer_name\">KEN F. </span></p><p><img src=\"trans.png\" class=\"star_rating five\"><span class=\"review_title\">Veritable magnificent craftsmanship. </span></p><p class=\"review_result\">I have <span class=\"circles positive\"  data-shap=\"0.12\"></span><span class=\"circle_terms positive\">recently</span> purchased three Vincero watches for my <span class=\"circles positive\"  data-shap=\"0.045\"></span><span class=\"circle_terms positive\">family</span> - everyone was extremely <span class=\"circles positive\"  data-shap=\"0.13\"></span><span class=\"circle_terms positive\">impressed</span> and <span class=\"circles positive\"  data-shap=\"0.16\"></span><span class=\"circle_terms positive\">amazed</span> that these <span class=\"circles positive\"  data-shap=\"0.2\"></span><span class=\"circle_terms positive\">high</span>-<span class=\"circles negative\"  data-shap=\"0.09\"></span><span class=\"circle_terms negative\">quality</span> watches were so very <span class=\"circles positive\"  data-shap=\"0.19\"></span><span class=\"circle_terms positive\">reasonably</span> priced. The <span class=\"circles negative\"  data-shap=\"0.38\"></span><span class=\"circle_terms negative\">plating</span> and <span class=\"circles positive\"  data-shap=\"0.16\"></span><span class=\"circle_terms positive\">distinctive</span> <span class=\"circles negative\"  data-shap=\"0.07\"></span><span class=\"circle_terms negative\">faces</span> are <span class=\"circles positive\"  data-shap=\"0.29\"></span><span class=\"circle_terms positive\">superb</span>. I <span class=\"circles negative\"  data-shap=\"0.22\"></span><span class=\"circle_terms negative\">intend</span> to purchase more <span class=\"circles negative\"  data-shap=\"0.09\"></span><span class=\"circle_terms negative\">items</span> for <span class=\"circles positive\"  data-shap=\"0.09\"></span><span class=\"circle_terms positive\">friends</span> and <span class=\"circles positive\"  data-shap=\"0.045\"></span><span class=\"circle_terms positive\">family</span> in the near future. Compared to companies such as Citizen and Seiko, these time pieces are without <span class=\"circles negative\"  data-shap=\"0.08\"></span><span class=\"circle_terms negative\">equal</span>. An extremely <span class=\"circles positive\"  data-shap=\"0.44\"></span><span class=\"circle_terms positive\">delighted</span> <span class=\"circles negative\"  data-shap=\"0.21\"></span><span class=\"circle_terms negative\">consumer</span>. <span class=\"circles negative\"  data-shap=\"0.12\"></span><span class=\"circle_terms negative\">Ken</span> F </p></div>\n",
      "<div class=\"single\"><p><img src=\"avatar.jpg\"> <span class=\"reviewer_name\">Alexis Iturbe </span></p><p><img src=\"trans.png\" class=\"star_rating five\"><span class=\"review_title\">The beauty of the watch </span></p><p class=\"review_result\">I <span class=\"circles positive\"  data-shap=\"0.41\"></span><span class=\"circle_terms positive\">love</span> the fact that the <span class=\"circles positive\"  data-shap=\"0.01\"></span><span class=\"circle_terms positive\">watch</span> was <span class=\"circles positive\"  data-shap=\"0.34\"></span><span class=\"circle_terms positive\">exactly</span> what I <span class=\"circles negative\"  data-shap=\"0.04\"></span><span class=\"circle_terms negative\">read</span> on the <span class=\"circles negative\"  data-shap=\"0.25\"></span><span class=\"circle_terms negative\">description</span>. I also <span class=\"circles positive\"  data-shap=\"0.41\"></span><span class=\"circle_terms positive\">love</span> the <span class=\"circles negative\"  data-shap=\"0.29\"></span><span class=\"circle_terms negative\">marble</span> on the back of the <span class=\"circles positive\"  data-shap=\"0.01\"></span><span class=\"circle_terms positive\">watch</span>. One <span class=\"circles positive\"  data-shap=\"0.07\"></span><span class=\"circle_terms positive\">thing</span> that this <span class=\"circles positive\"  data-shap=\"0.01\"></span><span class=\"circle_terms positive\">watch</span> is <span class=\"circles positive\"  data-shap=\"0.33\"></span><span class=\"circle_terms positive\">best</span> at is the fact that you can <span class=\"circles negative\"  data-shap=\"0.045\"></span><span class=\"circle_terms negative\">change</span> the <span class=\"circles negative\"  data-shap=\"0.05\"></span><span class=\"circle_terms negative\">straps</span> of it to either leather, or metal to <span class=\"circles positive\"  data-shap=\"0.065\"></span><span class=\"circle_terms positive\">just</span> <span class=\"circles negative\"  data-shap=\"0.045\"></span><span class=\"circle_terms negative\">change</span> up your <span class=\"circles positive\"  data-shap=\"0.1\"></span><span class=\"circle_terms positive\">like</span> in <span class=\"circles negative\"  data-shap=\"0.22\"></span><span class=\"circle_terms negative\">taste</span> of different combinations. The price for this <span class=\"circles positive\"  data-shap=\"0.01\"></span><span class=\"circle_terms positive\">watch</span> and any <span class=\"circles positive\"  data-shap=\"0.01\"></span><span class=\"circle_terms positive\">watch</span> that Vincero sell you is <span class=\"circles positive\"  data-shap=\"0.065\"></span><span class=\"circle_terms positive\">just</span> <span class=\"circles positive\"  data-shap=\"0.06\"></span><span class=\"circle_terms positive\">right</span> and it will be worth your money <span class=\"circles negative\"  data-shap=\"0.04\"></span><span class=\"circle_terms negative\">instead</span> of buying other <span class=\"circles positive\"  data-shap=\"0.01\"></span><span class=\"circle_terms positive\">watches</span> for a <span class=\"circles positive\"  data-shap=\"0.12\"></span><span class=\"circle_terms positive\">greater</span> <span class=\"circles positive\"  data-shap=\"0.14\"></span><span class=\"circle_terms positive\">expense</span>. </p></div>\n",
      "<div class=\"single\"><p><img src=\"avatar.jpg\"> <span class=\"reviewer_name\">itamar barouch </span></p><p><img src=\"trans.png\" class=\"star_rating two\"><span class=\"review_title\">Ugly strap </span></p><p class=\"review_result\">The <span class=\"circles negative\"  data-shap=\"0.05\"></span><span class=\"circle_terms negative\">strap</span> I <span class=\"circles negative\"  data-shap=\"0.22\"></span><span class=\"circle_terms negative\">received</span> <span class=\"circles negative\"  data-shap=\"0.27\"></span><span class=\"circle_terms negative\">looked</span> nothing <span class=\"circles positive\"  data-shap=\"0.1\"></span><span class=\"circle_terms positive\">like</span> the <span class=\"circles negative\"  data-shap=\"0.18\"></span><span class=\"circle_terms negative\">picture</span>, very <span class=\"circles negative\"  data-shap=\"0.71\"></span><span class=\"circle_terms negative\">disappointing</span></p></div>\n",
      "<div class=\"single\"><p><img src=\"avatar.jpg\"> <span class=\"reviewer_name\">Adam Jones </span></p><p><img src=\"trans.png\" class=\"star_rating five\"><span class=\"review_title\">Great looking watch for a really cheap price </span></p><p class=\"review_result\"><span class=\"circles positive\"  data-shap=\"0.085\"></span><span class=\"circle_terms positive\">Definitely</span> a <span class=\"circles positive\"  data-shap=\"0.23\"></span><span class=\"circle_terms positive\">good</span> watch for the <span class=\"circles negative\"  data-shap=\"0.03\"></span><span class=\"circle_terms negative\">extremely</span> <span class=\"circles negative\"  data-shap=\"0.53\"></span><span class=\"circle_terms negative\">cheap</span> price of $140. Bought it to tide me over until I <span class=\"circles negative\"  data-shap=\"0.03\"></span><span class=\"circle_terms negative\">feel</span> <span class=\"circles positive\"  data-shap=\"0.1\"></span><span class=\"circle_terms positive\">like</span> buying a real <span class=\"circles positive\"  data-shap=\"0.15\"></span><span class=\"circle_terms positive\">expensive</span> watch from the jewelry <span class=\"circles positive\"  data-shap=\"0.06\"></span><span class=\"circle_terms positive\">store</span> in <span class=\"circles positive\"  data-shap=\"0.18\"></span><span class=\"circle_terms positive\">town</span> and I'm <span class=\"circles positive\"  data-shap=\"0.085\"></span><span class=\"circle_terms positive\">definitely</span> <span class=\"circles positive\"  data-shap=\"0.23\"></span><span class=\"circle_terms positive\">happy</span> with it. <span class=\"circles negative\"  data-shap=\"0.08\"></span><span class=\"circle_terms negative\">Looks</span> as <span class=\"circles positive\"  data-shap=\"0.08\"></span><span class=\"circle_terms positive\">advertised</span> and the <span class=\"circles positive\"  data-shap=\"0.24\"></span><span class=\"circle_terms positive\">Italian</span> leather is <span class=\"circles negative\"  data-shap=\"0.03\"></span><span class=\"circle_terms negative\">extremely</span> <span class=\"circles positive\"  data-shap=\"0.16\"></span><span class=\"circle_terms positive\">comfortable</span>. </p></div>\n",
      "<div class=\"single\"><p><img src=\"avatar.jpg\"> <span class=\"reviewer_name\">Courtney Cochran </span></p><p><img src=\"trans.png\" class=\"star_rating five\"><span class=\"review_title\">Quality and Care </span></p><p class=\"review_result\">I <span class=\"circles negative\"  data-shap=\"0.04\"></span><span class=\"circle_terms negative\">ordered</span> this watch for my <span class=\"circles positive\"  data-shap=\"0.08\"></span><span class=\"circle_terms positive\">husband</span> last <span class=\"circles negative\"  data-shap=\"0.21\"></span><span class=\"circle_terms negative\">week</span> and have to <span class=\"circles positive\"  data-shap=\"0.04\"></span><span class=\"circle_terms positive\">say</span> that we are <span class=\"circles negative\"  data-shap=\"0.03\"></span><span class=\"circle_terms negative\">extremely</span> <span class=\"circles positive\"  data-shap=\"0.13\"></span><span class=\"circle_terms positive\">impressed</span>. Not only is the <span class=\"circles negative\"  data-shap=\"0.09\"></span><span class=\"circle_terms negative\">quality</span> of this watch <span class=\"circles positive\"  data-shap=\"0.4\"></span><span class=\"circle_terms positive\">amazing</span>, <span class=\"circles positive\"  data-shap=\"0.11\"></span><span class=\"circle_terms positive\">especially</span> for the <span class=\"circles positive\"  data-shap=\"0.07\"></span><span class=\"circle_terms positive\">affordable</span> price, but the <span class=\"circles positive\"  data-shap=\"0.08\"></span><span class=\"circle_terms positive\">customer</span> service displayed by this company is top <span class=\"circles positive\"  data-shap=\"0.14\"></span><span class=\"circle_terms positive\">notch</span>. I would absolutely recommend them to a <span class=\"circles positive\"  data-shap=\"0.09\"></span><span class=\"circle_terms positive\">friend</span> and will be purchasing from them in the <span class=\"circles positive\"  data-shap=\"0.08\"></span><span class=\"circle_terms positive\">future</span>! </p></div>\n",
      "<div class=\"single\"><p><img src=\"avatar.jpg\"> <span class=\"reviewer_name\">Randy24 </span></p><p><img src=\"trans.png\" class=\"star_rating four\"><span class=\"review_title\">Beautiful watch, date-setting instructions---not so much </span></p><p class=\"review_result\">This is a <span class=\"circles positive\"  data-shap=\"0.35\"></span><span class=\"circle_terms positive\">beautiful</span> watch! Large face (40mm), dark blue background with gold <span class=\"circles negative\"  data-shap=\"0.11\"></span><span class=\"circle_terms negative\">hands</span>, <span class=\"circles positive\"  data-shap=\"0.15\"></span><span class=\"circle_terms positive\">simple</span> day of <span class=\"circles negative\"  data-shap=\"0.21\"></span><span class=\"circle_terms negative\">month</span> <span class=\"circles positive\"  data-shap=\"0.03666666666666667\"></span><span class=\"circle_terms positive\">date</span> window, <span class=\"circles positive\"  data-shap=\"0.16\"></span><span class=\"circle_terms positive\">comfortable</span> leather band. I <span class=\"circles positive\"  data-shap=\"0.19\"></span><span class=\"circle_terms positive\">deducted</span> one star because the <span class=\"circles negative\"  data-shap=\"0.21\"></span><span class=\"circle_terms negative\">instructions</span> on setting the <span class=\"circles positive\"  data-shap=\"0.03666666666666667\"></span><span class=\"circle_terms positive\">date</span> were totally <span class=\"circles negative\"  data-shap=\"0.17\"></span><span class=\"circle_terms negative\">wrong</span>. I searched online to find how to <span class=\"circles negative\"  data-shap=\"0.09\"></span><span class=\"circle_terms negative\">set</span> the <span class=\"circles positive\"  data-shap=\"0.03666666666666667\"></span><span class=\"circle_terms positive\">date</span> with no <span class=\"circles negative\"  data-shap=\"0.12\"></span><span class=\"circle_terms negative\">luck</span> but <span class=\"circles positive\"  data-shap=\"0.25\"></span><span class=\"circle_terms positive\">finally</span> <span class=\"circles positive\"  data-shap=\"0.08\"></span><span class=\"circle_terms positive\">figured</span> it out myself by <span class=\"circles positive\"  data-shap=\"0.39\"></span><span class=\"circle_terms positive\">fiddling</span> with the crown settings. <span class=\"circles negative\"  data-shap=\"0.42\"></span><span class=\"circle_terms negative\">Frustrating</span>! Someone should have <span class=\"circles positive\"  data-shap=\"0.11\"></span><span class=\"circle_terms positive\">caught</span> that in the <span class=\"circles negative\"  data-shap=\"0.09\"></span><span class=\"circle_terms negative\">quality</span> control <span class=\"circles negative\"  data-shap=\"0.21\"></span><span class=\"circle_terms negative\">dept</span>.</p></div>\n",
      "<div class=\"single\"><p><img src=\"avatar.jpg\"> <span class=\"reviewer_name\">Robert Rochon </span></p><p><img src=\"trans.png\" class=\"star_rating five\"><span class=\"review_title\">Superb watch at a great value! </span></p><p class=\"review_result\"><span class=\"circles positive\"  data-shap=\"0.29\"></span><span class=\"circle_terms positive\">Superb</span> <span class=\"circles positive\"  data-shap=\"0.01\"></span><span class=\"circle_terms positive\">watch</span> at a <span class=\"circles positive\"  data-shap=\"0.31\"></span><span class=\"circle_terms positive\">great</span> <span class=\"circles negative\"  data-shap=\"0.02\"></span><span class=\"circle_terms negative\">value</span>! I'm very <span class=\"circles positive\"  data-shap=\"0.35\"></span><span class=\"circle_terms positive\">pleased</span> with the <span class=\"circles positive\"  data-shap=\"0.01\"></span><span class=\"circle_terms positive\">watch</span>, the <span class=\"circles negative\"  data-shap=\"0.08\"></span><span class=\"circle_terms negative\">look</span>, and the <span class=\"circles negative\"  data-shap=\"0.03\"></span><span class=\"circle_terms negative\">feel</span>. I'm in the process of <span class=\"circles negative\"  data-shap=\"0.32\"></span><span class=\"circle_terms negative\">updating</span> my <span class=\"circles positive\"  data-shap=\"0.03\"></span><span class=\"circle_terms positive\">wardrobe</span> and buying this <span class=\"circles positive\"  data-shap=\"0.01\"></span><span class=\"circle_terms positive\">watch</span> is one of my first <span class=\"circles negative\"  data-shap=\"0.04\"></span><span class=\"circle_terms negative\">steps</span> in <span class=\"circles positive\"  data-shap=\"0.09\"></span><span class=\"circle_terms positive\">doing</span> so, and I have no <span class=\"circles positive\"  data-shap=\"0.04\"></span><span class=\"circle_terms positive\">regrets</span>. I will recommend Vincero <span class=\"circles positive\"  data-shap=\"0.01\"></span><span class=\"circle_terms positive\">watches</span> to my <span class=\"circles positive\"  data-shap=\"0.09\"></span><span class=\"circle_terms positive\">friends</span>. </p></div>\n"
     ]
    }
   ],
   "source": [
    "name = \"\"\n",
    "rating = \"\"\n",
    "title = \"\"\n",
    "for i in review.index:\n",
    "    row = review.loc[i]\n",
    "    \n",
    "    shap = row.shap_json\n",
    "    name = row.customer_name\n",
    "    rating = getRating(row.score)\n",
    "    title = row.review_title\n",
    "    review_text = row.review_text\n",
    "    \n",
    "    h = getHeader(name, rating, title)\n",
    "    middle = getMiddle(review_text, shap)\n",
    "    e = getEndLine()\n",
    "    print(h + middle + e)\n",
    "    \n",
    "    shap = \"\"\n",
    "    name = \"\"\n",
    "    rating = \"\"\n",
    "    title = \"\"\n",
    "    review_text = \"\""
   ]
  }
 ],
 "metadata": {
  "kernelspec": {
   "display_name": "Python 3",
   "language": "python",
   "name": "python3"
  },
  "language_info": {
   "codemirror_mode": {
    "name": "ipython",
    "version": 3
   },
   "file_extension": ".py",
   "mimetype": "text/x-python",
   "name": "python",
   "nbconvert_exporter": "python",
   "pygments_lexer": "ipython3",
   "version": "3.7.7"
  }
 },
 "nbformat": 4,
 "nbformat_minor": 4
}
